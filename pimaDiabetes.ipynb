{
 "cells": [
  {
   "cell_type": "code",
   "execution_count": 1,
   "id": "fff88ed1",
   "metadata": {
    "_cell_guid": "b1076dfc-b9ad-4769-8c92-a6c4dae69d19",
    "_uuid": "8f2839f25d086af736a60e9eeb907d3b93b6e0e5",
    "execution": {
     "iopub.execute_input": "2023-08-10T19:00:58.952145Z",
     "iopub.status.busy": "2023-08-10T19:00:58.951721Z",
     "iopub.status.idle": "2023-08-10T19:00:58.968892Z",
     "shell.execute_reply": "2023-08-10T19:00:58.967767Z"
    },
    "papermill": {
     "duration": 0.027934,
     "end_time": "2023-08-10T19:00:58.971909",
     "exception": false,
     "start_time": "2023-08-10T19:00:58.943975",
     "status": "completed"
    },
    "tags": []
   },
   "outputs": [
    {
     "name": "stdout",
     "output_type": "stream",
     "text": [
      "/kaggle/input/pima-indians-diabetes-database/diabetes.csv\n"
     ]
    }
   ],
   "source": [
    "# This Python 3 environment comes with many helpful analytics libraries installed\n",
    "# It is defined by the kaggle/python Docker image: https://github.com/kaggle/docker-python\n",
    "# For example, here's several helpful packages to load\n",
    "\n",
    "import numpy as np # linear algebra\n",
    "import pandas as pd # data processing, CSV file I/O (e.g. pd.read_csv)\n",
    "\n",
    "# Input data files are available in the read-only \"../input/\" directory\n",
    "# For example, running this (by clicking run or pressing Shift+Enter) will list all files under the input directory\n",
    "\n",
    "import os\n",
    "for dirname, _, filenames in os.walk('/kaggle/input'):\n",
    "    for filename in filenames:\n",
    "        print(os.path.join(dirname, filename))\n",
    "\n",
    "# You can write up to 20GB to the current directory (/kaggle/working/) that gets preserved as output when you create a version using \"Save & Run All\" \n",
    "# You can also write temporary files to /kaggle/temp/, but they won't be saved outside of the current session"
   ]
  },
  {
   "cell_type": "code",
   "execution_count": 2,
   "id": "d1474180",
   "metadata": {
    "execution": {
     "iopub.execute_input": "2023-08-10T19:00:58.981149Z",
     "iopub.status.busy": "2023-08-10T19:00:58.980858Z",
     "iopub.status.idle": "2023-08-10T19:00:58.984730Z",
     "shell.execute_reply": "2023-08-10T19:00:58.983855Z"
    },
    "papermill": {
     "duration": 0.01087,
     "end_time": "2023-08-10T19:00:58.987005",
     "exception": false,
     "start_time": "2023-08-10T19:00:58.976135",
     "status": "completed"
    },
    "tags": []
   },
   "outputs": [],
   "source": [
    "PATH = '/kaggle/input/pima-indians-diabetes-database/diabetes.csv'"
   ]
  },
  {
   "cell_type": "markdown",
   "id": "3bb454ee",
   "metadata": {
    "papermill": {
     "duration": 0.003807,
     "end_time": "2023-08-10T19:00:58.994765",
     "exception": false,
     "start_time": "2023-08-10T19:00:58.990958",
     "status": "completed"
    },
    "tags": []
   },
   "source": [
    "Pytorch Implentation\n",
    "* Load dataset\n",
    "* Prepare dataset\n",
    "* define model\n",
    "* build model\n",
    "* evaluate model"
   ]
  },
  {
   "cell_type": "code",
   "execution_count": 3,
   "id": "74cd4cc4",
   "metadata": {
    "execution": {
     "iopub.execute_input": "2023-08-10T19:00:59.003706Z",
     "iopub.status.busy": "2023-08-10T19:00:59.003442Z",
     "iopub.status.idle": "2023-08-10T19:01:02.692795Z",
     "shell.execute_reply": "2023-08-10T19:01:02.691750Z"
    },
    "papermill": {
     "duration": 3.697029,
     "end_time": "2023-08-10T19:01:02.695677",
     "exception": false,
     "start_time": "2023-08-10T19:00:58.998648",
     "status": "completed"
    },
    "tags": []
   },
   "outputs": [],
   "source": [
    "#pytorch takes an NX1 dim input matrix\n",
    "import torch\n",
    "data = pd.read_csv(PATH)\n",
    "x = data.iloc[:,:8]\n",
    "y = data.iloc[:,-1]\n"
   ]
  },
  {
   "cell_type": "code",
   "execution_count": 4,
   "id": "84e80276",
   "metadata": {
    "execution": {
     "iopub.execute_input": "2023-08-10T19:01:02.705969Z",
     "iopub.status.busy": "2023-08-10T19:01:02.705665Z",
     "iopub.status.idle": "2023-08-10T19:01:02.745606Z",
     "shell.execute_reply": "2023-08-10T19:01:02.744711Z"
    },
    "papermill": {
     "duration": 0.047778,
     "end_time": "2023-08-10T19:01:02.747789",
     "exception": false,
     "start_time": "2023-08-10T19:01:02.700011",
     "status": "completed"
    },
    "tags": []
   },
   "outputs": [],
   "source": [
    "\n",
    "x_vals = torch.tensor(x.values, dtype=torch.float32)\n",
    "y_vals = torch.tensor(y.values,dtype = torch.float32).reshape(-1,1)"
   ]
  },
  {
   "cell_type": "code",
   "execution_count": 5,
   "id": "504cedde",
   "metadata": {
    "execution": {
     "iopub.execute_input": "2023-08-10T19:01:02.757646Z",
     "iopub.status.busy": "2023-08-10T19:01:02.757358Z",
     "iopub.status.idle": "2023-08-10T19:01:02.772233Z",
     "shell.execute_reply": "2023-08-10T19:01:02.771344Z"
    },
    "papermill": {
     "duration": 0.022394,
     "end_time": "2023-08-10T19:01:02.774502",
     "exception": false,
     "start_time": "2023-08-10T19:01:02.752108",
     "status": "completed"
    },
    "tags": []
   },
   "outputs": [],
   "source": [
    "train_x_ds, test_x_ds = torch.utils.data.random_split(x_vals, [0.8,0.2])\n",
    "train_y_ds, test_y_ds = torch.utils.data.random_split(y_vals, [0.8,0.2])\n"
   ]
  },
  {
   "cell_type": "code",
   "execution_count": 6,
   "id": "28953c96",
   "metadata": {
    "execution": {
     "iopub.execute_input": "2023-08-10T19:01:02.784328Z",
     "iopub.status.busy": "2023-08-10T19:01:02.783803Z",
     "iopub.status.idle": "2023-08-10T19:01:02.790519Z",
     "shell.execute_reply": "2023-08-10T19:01:02.789434Z"
    },
    "papermill": {
     "duration": 0.014171,
     "end_time": "2023-08-10T19:01:02.792752",
     "exception": false,
     "start_time": "2023-08-10T19:01:02.778581",
     "status": "completed"
    },
    "tags": []
   },
   "outputs": [],
   "source": [
    "test_x_ds = torch.tensor(x.values, dtype=torch.float32)\n",
    "test_y_ds = torch.tensor(y.values,dtype = torch.float32)"
   ]
  },
  {
   "cell_type": "code",
   "execution_count": 7,
   "id": "9bba2efa",
   "metadata": {
    "execution": {
     "iopub.execute_input": "2023-08-10T19:01:02.803796Z",
     "iopub.status.busy": "2023-08-10T19:01:02.802263Z",
     "iopub.status.idle": "2023-08-10T19:01:02.817798Z",
     "shell.execute_reply": "2023-08-10T19:01:02.816852Z"
    },
    "papermill": {
     "duration": 0.022765,
     "end_time": "2023-08-10T19:01:02.819807",
     "exception": false,
     "start_time": "2023-08-10T19:01:02.797042",
     "status": "completed"
    },
    "tags": []
   },
   "outputs": [
    {
     "name": "stdout",
     "output_type": "stream",
     "text": [
      "Pima(\n",
      "  (hidden1): Linear(in_features=8, out_features=15, bias=True)\n",
      "  (act1): ReLU()\n",
      "  (hidden2): Linear(in_features=15, out_features=8, bias=True)\n",
      "  (act2): ReLU()\n",
      "  (output): Linear(in_features=8, out_features=1, bias=True)\n",
      "  (act_output): Sigmoid()\n",
      ")\n"
     ]
    }
   ],
   "source": [
    "import torch.nn as nn\n",
    "import torch.optim as optim\n",
    "class Pima(nn.Module):\n",
    "    def __init__(self):\n",
    "        super().__init__()\n",
    "        self.hidden1 = nn.Linear(8, 15)\n",
    "        self.act1 = nn.ReLU()\n",
    "        self.hidden2 = nn.Linear(15, 8)\n",
    "        self.act2 = nn.ReLU()\n",
    "        self.output = nn.Linear(8, 1)\n",
    "        self.act_output = nn.Sigmoid()\n",
    " \n",
    "    def forward(self, x):\n",
    "        x = self.act1(self.hidden1(x))\n",
    "        x = self.act2(self.hidden2(x))\n",
    "        x = self.act_output(self.output(x))\n",
    "        return x\n",
    "model = Pima()\n",
    "print(model)\n",
    "        \n",
    "    "
   ]
  },
  {
   "cell_type": "code",
   "execution_count": 8,
   "id": "f2955c34",
   "metadata": {
    "execution": {
     "iopub.execute_input": "2023-08-10T19:01:02.829841Z",
     "iopub.status.busy": "2023-08-10T19:01:02.829195Z",
     "iopub.status.idle": "2023-08-10T19:01:02.833507Z",
     "shell.execute_reply": "2023-08-10T19:01:02.832633Z"
    },
    "papermill": {
     "duration": 0.011208,
     "end_time": "2023-08-10T19:01:02.835511",
     "exception": false,
     "start_time": "2023-08-10T19:01:02.824303",
     "status": "completed"
    },
    "tags": []
   },
   "outputs": [],
   "source": [
    "loss_func = nn.BCELoss()\n",
    "optimizer = optim.Adam(model.parameters(),lr=0.0001)"
   ]
  },
  {
   "cell_type": "code",
   "execution_count": 9,
   "id": "579fb7db",
   "metadata": {
    "execution": {
     "iopub.execute_input": "2023-08-10T19:01:02.845309Z",
     "iopub.status.busy": "2023-08-10T19:01:02.844728Z",
     "iopub.status.idle": "2023-08-10T19:01:08.025003Z",
     "shell.execute_reply": "2023-08-10T19:01:08.024136Z"
    },
    "papermill": {
     "duration": 5.18806,
     "end_time": "2023-08-10T19:01:08.027552",
     "exception": false,
     "start_time": "2023-08-10T19:01:02.839492",
     "status": "completed"
    },
    "tags": []
   },
   "outputs": [
    {
     "name": "stdout",
     "output_type": "stream",
     "text": [
      "Epoch - 0,Loss - 1.3214688301086426\n",
      "Epoch - 1,Loss - 0.7119644284248352\n",
      "Epoch - 2,Loss - 0.5228708982467651\n",
      "Epoch - 3,Loss - 0.32755663990974426\n",
      "Epoch - 4,Loss - 0.2690761387348175\n",
      "Epoch - 5,Loss - 0.2852570116519928\n",
      "Epoch - 6,Loss - 0.22309236228466034\n",
      "Epoch - 7,Loss - 0.16574068367481232\n",
      "Epoch - 8,Loss - 0.07063406705856323\n",
      "Epoch - 9,Loss - 0.09796470403671265\n",
      "Epoch - 10,Loss - 0.0662267655134201\n",
      "Epoch - 11,Loss - 0.05592311546206474\n",
      "Epoch - 12,Loss - 0.24091942608356476\n",
      "Epoch - 13,Loss - 0.24322280287742615\n",
      "Epoch - 14,Loss - 0.3975563645362854\n",
      "Epoch - 15,Loss - 0.3985854983329773\n",
      "Epoch - 16,Loss - 0.5762583017349243\n",
      "Epoch - 17,Loss - 0.5111628770828247\n",
      "Epoch - 18,Loss - 0.5411189198493958\n",
      "Epoch - 19,Loss - 0.5546243190765381\n",
      "Epoch - 20,Loss - 0.5815879702568054\n",
      "Epoch - 21,Loss - 0.5474886298179626\n",
      "Epoch - 22,Loss - 0.5267286896705627\n",
      "Epoch - 23,Loss - 0.5006245374679565\n",
      "Epoch - 24,Loss - 0.4748172163963318\n",
      "Epoch - 25,Loss - 0.4754265248775482\n",
      "Epoch - 26,Loss - 0.5446915030479431\n",
      "Epoch - 27,Loss - 0.4681932032108307\n",
      "Epoch - 28,Loss - 0.43920427560806274\n",
      "Epoch - 29,Loss - 0.43853744864463806\n",
      "Epoch - 30,Loss - 0.5199760794639587\n",
      "Epoch - 31,Loss - 0.4256332814693451\n",
      "Epoch - 32,Loss - 0.40435439348220825\n",
      "Epoch - 33,Loss - 0.36650049686431885\n",
      "Epoch - 34,Loss - 0.17102506756782532\n",
      "Epoch - 35,Loss - 0.32957643270492554\n",
      "Epoch - 36,Loss - 0.34519433975219727\n",
      "Epoch - 37,Loss - 0.3096911907196045\n",
      "Epoch - 38,Loss - 0.32494238018989563\n",
      "Epoch - 39,Loss - 0.18828469514846802\n",
      "Epoch - 40,Loss - 0.12476305663585663\n",
      "Epoch - 41,Loss - 0.08030237257480621\n",
      "Epoch - 42,Loss - 0.09337987005710602\n",
      "Epoch - 43,Loss - 0.26861312985420227\n",
      "Epoch - 44,Loss - 0.25480619072914124\n",
      "Epoch - 45,Loss - 0.21226409077644348\n",
      "Epoch - 46,Loss - 0.1702938973903656\n",
      "Epoch - 47,Loss - 0.3182432949542999\n",
      "Epoch - 48,Loss - 0.269633948802948\n",
      "Epoch - 49,Loss - 0.2770216166973114\n",
      "Epoch - 50,Loss - 0.2624320089817047\n",
      "Epoch - 51,Loss - 0.2825520634651184\n",
      "Epoch - 52,Loss - 0.41433238983154297\n",
      "Epoch - 53,Loss - 0.362007200717926\n",
      "Epoch - 54,Loss - 0.30566325783729553\n",
      "Epoch - 55,Loss - 0.3363732397556305\n",
      "Epoch - 56,Loss - 0.29648035764694214\n",
      "Epoch - 57,Loss - 0.28382569551467896\n",
      "Epoch - 58,Loss - 0.276822954416275\n",
      "Epoch - 59,Loss - 0.21701999008655548\n",
      "Epoch - 60,Loss - 0.478199303150177\n",
      "Epoch - 61,Loss - 0.2970808148384094\n",
      "Epoch - 62,Loss - 0.21506741642951965\n",
      "Epoch - 63,Loss - 0.5434278249740601\n",
      "Epoch - 64,Loss - 0.4276025891304016\n",
      "Epoch - 65,Loss - 0.4586780071258545\n",
      "Epoch - 66,Loss - 0.35830017924308777\n",
      "Epoch - 67,Loss - 0.31693872809410095\n",
      "Epoch - 68,Loss - 0.298463374376297\n",
      "Epoch - 69,Loss - 0.27837368845939636\n"
     ]
    }
   ],
   "source": [
    "epochs = 70\n",
    "batches = 10\n",
    "for i in range(epochs):\n",
    "    for batch in range(1,len(train_x_ds),batches):\n",
    "        train_x_val = train_x_ds[i:i+batches]\n",
    "        y_pred = model(train_x_val)\n",
    "        train_y_val = train_y_ds[i:i+batches]\n",
    "        loss = loss_func(y_pred,train_y_val)\n",
    "        optimizer.zero_grad()\n",
    "        loss.backward()\n",
    "        optimizer.step()\n",
    "    print(f'Epoch - {i},Loss - {loss}')\n",
    "\n",
    "        "
   ]
  },
  {
   "cell_type": "code",
   "execution_count": 10,
   "id": "2b43bfcd",
   "metadata": {
    "execution": {
     "iopub.execute_input": "2023-08-10T19:01:08.046929Z",
     "iopub.status.busy": "2023-08-10T19:01:08.046447Z",
     "iopub.status.idle": "2023-08-10T19:01:08.068813Z",
     "shell.execute_reply": "2023-08-10T19:01:08.067940Z"
    },
    "papermill": {
     "duration": 0.034546,
     "end_time": "2023-08-10T19:01:08.071400",
     "exception": false,
     "start_time": "2023-08-10T19:01:08.036854",
     "status": "completed"
    },
    "tags": []
   },
   "outputs": [
    {
     "name": "stdout",
     "output_type": "stream",
     "text": [
      "Accuracy 0.5515272617340088\n"
     ]
    }
   ],
   "source": [
    "with torch.no_grad():\n",
    "    y_pred = model(test_x_ds)\n",
    "accuracy = (y_pred.round() == test_y_ds).float().mean()\n",
    "print(f\"Accuracy {accuracy}\")"
   ]
  },
  {
   "cell_type": "code",
   "execution_count": null,
   "id": "9895de66",
   "metadata": {
    "papermill": {
     "duration": 0.0082,
     "end_time": "2023-08-10T19:01:08.087668",
     "exception": false,
     "start_time": "2023-08-10T19:01:08.079468",
     "status": "completed"
    },
    "tags": []
   },
   "outputs": [],
   "source": []
  },
  {
   "cell_type": "code",
   "execution_count": null,
   "id": "61ec4472",
   "metadata": {
    "papermill": {
     "duration": 0.00797,
     "end_time": "2023-08-10T19:01:08.103703",
     "exception": false,
     "start_time": "2023-08-10T19:01:08.095733",
     "status": "completed"
    },
    "tags": []
   },
   "outputs": [],
   "source": []
  }
 ],
 "metadata": {
  "kernelspec": {
   "display_name": "Python 3",
   "language": "python",
   "name": "python3"
  },
  "language_info": {
   "codemirror_mode": {
    "name": "ipython",
    "version": 3
   },
   "file_extension": ".py",
   "mimetype": "text/x-python",
   "name": "python",
   "nbconvert_exporter": "python",
   "pygments_lexer": "ipython3",
   "version": "3.10.12"
  },
  "papermill": {
   "default_parameters": {},
   "duration": 21.394086,
   "end_time": "2023-08-10T19:01:09.838277",
   "environment_variables": {},
   "exception": null,
   "input_path": "__notebook__.ipynb",
   "output_path": "__notebook__.ipynb",
   "parameters": {},
   "start_time": "2023-08-10T19:00:48.444191",
   "version": "2.4.0"
  }
 },
 "nbformat": 4,
 "nbformat_minor": 5
}
